{
 "cells": [
  {
   "cell_type": "code",
   "execution_count": 163,
   "id": "951aafb3",
   "metadata": {},
   "outputs": [],
   "source": [
    "#the model\n",
    "#f(x)=(w*x)+b\n",
    "import copy\n",
    "import numpy as np\n",
    "w_initial = np.array([0.39133535, 18.75376741, -53.36032453, -26.42131618])\n",
    "X_train = np.array([[2104, 5, 1, 45], [1416, 3, 2, 40], [852, 2, 1, 35]])\n",
    "y_train = np.array([460, 232, 178])\n",
    "b_initial =785.1811367994083\n",
    "def prediction (w,x,b):\n",
    "    prediction = np.dot(w,x)+b\n",
    "    return prediction"
   ]
  },
  {
   "cell_type": "code",
   "execution_count": 164,
   "id": "1625b426",
   "metadata": {},
   "outputs": [
    {
     "name": "stdout",
     "output_type": "stream",
     "text": [
      "x_vec shape (4,), x_vec value: [2104    5    1   45]\n",
      "459.9999976194082\n"
     ]
    }
   ],
   "source": [
    "#test\n",
    "# get a row from our training data\n",
    "x_vec = x[0,:]\n",
    "print(f\"x_vec shape {x_vec.shape}, x_vec value: {x_vec}\")\n",
    "\n",
    "# make a prediction\n",
    "f_wb = prediction(w,x_vec, b)\n",
    "print( f_wb)"
   ]
  },
  {
   "cell_type": "code",
   "execution_count": 109,
   "id": "56d50bbb",
   "metadata": {},
   "outputs": [
    {
     "data": {
      "text/plain": [
       "array([852,   2,   1,  35])"
      ]
     },
     "execution_count": 109,
     "metadata": {},
     "output_type": "execute_result"
    }
   ],
   "source": [
    "X_train[2]"
   ]
  },
  {
   "cell_type": "code",
   "execution_count": 165,
   "id": "68412220",
   "metadata": {},
   "outputs": [],
   "source": [
    "#cost function\n",
    "#J = 1/2m for i in range (number of rows) error**2\n",
    "\n",
    "def calc_cost (x,y,w,b):\n",
    "    cost = 0.0\n",
    "    m= x.shape[0]\n",
    "    for i in range(m):\n",
    "        f_wb_i = np.dot(w,x[i]) + b\n",
    "        cost = cost + (f_wb_i - y[i]) **2\n",
    "    cost = cost / (2 * m)\n",
    "    return cost"
   ]
  },
  {
   "cell_type": "code",
   "execution_count": 166,
   "id": "02b87957",
   "metadata": {},
   "outputs": [
    {
     "name": "stdout",
     "output_type": "stream",
     "text": [
      "Cost at optimal w : 1.5578904330213735e-12\n"
     ]
    }
   ],
   "source": [
    "cost = calc_cost(X_train, y_train, w_initial, b_initial)\n",
    "print(f'Cost at optimal w : {cost}')"
   ]
  },
  {
   "cell_type": "code",
   "execution_count": 167,
   "id": "e6bf8b43",
   "metadata": {},
   "outputs": [],
   "source": [
    "#gradient decent\n",
    "# (1 / m) * (model prediction - y ) * (x)\n",
    "def calc_gradient (x,y,w,b):\n",
    "    \n",
    "    m,n = x.shape\n",
    "    dj_dw = np.zeros((n,)) \n",
    "    dj_db = 0.0\n",
    "    for i in range(m):\n",
    "        error = (np.dot(w,x[i]) + b) - y[i]\n",
    "        for j in range(n):\n",
    "            dj_dw[j] = dj_dw[j] +  error * x[i,j]\n",
    "        dj_db = dj_db + error\n",
    "    dj_dw = dj_dw / m\n",
    "    dj_db = dj_db / m\n",
    "    return dj_db,dj_dw "
   ]
  },
  {
   "cell_type": "code",
   "execution_count": 168,
   "id": "afe81eb3",
   "metadata": {},
   "outputs": [
    {
     "name": "stdout",
     "output_type": "stream",
     "text": [
      "dj_db at initial w,b: -1.6739251122999121e-06\n",
      "dj_dw at initial w,b: \n",
      " [-2.72623577e-03 -6.27197263e-06 -2.21745571e-06 -6.92403379e-05]\n"
     ]
    }
   ],
   "source": [
    "tmp_dj_db, tmp_dj_dw = calc_gradient(X_train, y_train, w_initial, b_initial)\n",
    "print(f'dj_db at initial w,b: {tmp_dj_db}')\n",
    "print(f'dj_dw at initial w,b: \\n {tmp_dj_dw}')"
   ]
  },
  {
   "cell_type": "code",
   "execution_count": 171,
   "id": "6b2a89b2",
   "metadata": {},
   "outputs": [],
   "source": [
    "#gradient decent cumulative function\n",
    "def gradient_decent(x,y,w,b,calc_gradient,alpha,number_of_iterations):\n",
    "    m , n = x.shape\n",
    "    w_in = copy.deepcopy(w)  #avoid modifying global w within function\n",
    "    b_in = b\n",
    "    #dj_db , dj_dw = calc_gradient(x,y,w,b)\n",
    "    for j in range(number_of_iterations):\n",
    "        dj_db , dj_dw = calc_gradient(x,y,w_in,b)\n",
    "        w_in = w_in - (alpha * dj_dw)\n",
    "        b_in = b_in - (dj_db * alpha)\n",
    "        #for i in range(m):\n",
    "         #   w_in[i] = w_in[i] - (alpha * dj_dw[i])\n",
    "        #b_in = b_in - (dj_db * alpha) \n",
    "    return w_in , b_in"
   ]
  },
  {
   "cell_type": "code",
   "execution_count": 160,
   "id": "f0a600e8",
   "metadata": {},
   "outputs": [
    {
     "data": {
      "text/plain": [
       "array([0., 0., 0., 0.])"
      ]
     },
     "execution_count": 160,
     "metadata": {},
     "output_type": "execute_result"
    }
   ],
   "source": [
    "initial_w = np.zeros_like(w_initial)\n",
    "initial_w"
   ]
  },
  {
   "cell_type": "code",
   "execution_count": 172,
   "id": "0c922dd6",
   "metadata": {},
   "outputs": [
    {
     "name": "stdout",
     "output_type": "stream",
     "text": [
      "b,w found by gradient descent: -0.00,[ 0.20396437  0.0037492  -0.01124879 -0.06586307] \n"
     ]
    }
   ],
   "source": [
    "\n",
    "# initialize parameters\n",
    "initial_w = np.zeros_like(w_initial)\n",
    "initial_b = 0.\n",
    "iterations = 1000\n",
    "alpha = 5.0e-7\n",
    "\n",
    "w_final, b_final = gradient_decent(X_train, y_train, initial_w, initial_b, calc_gradient, \n",
    "                                                    alpha, iterations)\n",
    "print(f\"b,w found by gradient descent: {b_final:0.2f},{w_final} \")"
   ]
  },
  {
   "cell_type": "code",
   "execution_count": 173,
   "id": "3556a96e",
   "metadata": {},
   "outputs": [
    {
     "name": "stdout",
     "output_type": "stream",
     "text": [
      "prediction: 426.18, target value: 460\n",
      "prediction: 286.17, target value: 232\n",
      "prediction: 171.47, target value: 178\n"
     ]
    }
   ],
   "source": [
    "m,_ = X_train.shape\n",
    "for i in range(m):\n",
    "    print(f\"prediction: {np.dot(X_train[i], w_final) + b_final:0.2f}, target value: {y_train[i]}\")"
   ]
  },
  {
   "cell_type": "code",
   "execution_count": null,
   "id": "15ea9e06",
   "metadata": {},
   "outputs": [],
   "source": []
  }
 ],
 "metadata": {
  "kernelspec": {
   "display_name": "Python 3 (ipykernel)",
   "language": "python",
   "name": "python3"
  },
  "language_info": {
   "codemirror_mode": {
    "name": "ipython",
    "version": 3
   },
   "file_extension": ".py",
   "mimetype": "text/x-python",
   "name": "python",
   "nbconvert_exporter": "python",
   "pygments_lexer": "ipython3",
   "version": "3.9.7"
  }
 },
 "nbformat": 4,
 "nbformat_minor": 5
}
